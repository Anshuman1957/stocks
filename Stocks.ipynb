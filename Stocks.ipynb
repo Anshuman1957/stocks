{
 "cells": [
  {
   "cell_type": "code",
   "execution_count": 4,
   "metadata": {},
   "outputs": [],
   "source": [
    "import datetime as dt\n",
    "import matplotlib.pyplot as plt\n",
    "from matplotlib import style\n",
    "import pandas as pd\n",
    "import pandas_datareader.data as web\n",
    "from mpl_finance import candlestick_ohlc\n",
    "import matplotlib.dates as mdates\n",
    "from datetime import date\n",
    "import os"
   ]
  },
  {
   "cell_type": "code",
   "execution_count": 14,
   "metadata": {},
   "outputs": [],
   "source": [
    "def get_stock_data(stock_code,stock_name,view_head=False,folder="Portfolio"):\n",
    "    style.use('ggplot')\n",
    "    start=dt.datetime(2000,1,1)\n",
    "    end=dt.datetime.now()\n",
    "    df=web.DataReader(stock_code,'yahoo',start,end)\n",
    "    if os.path.exists(folder):\n",
    "        df.to_csv(folder+"\\"+stock_name+\".csv\")\n",
    "    else:\n",
    "        df.to_csv(stock_name+\".csv\")\n",
    "    df = pd.read_csv(stock_name+\".csv\",parse_dates=True,index_col=0)\n",
    "    if view_head:\n",
    "        display(df.head())\n",
    "    df_ohlc=df['Adj Close'].resample(\"10D\").ohlc() #Open-High-Low-Close\n",
    "    df_volume=df[\"Volume\"].resample(\"10D\").sum()\n",
    "    df_ohlc.reset_index(inplace=True)\n",
    "    df_ohlc['Date'] =df_ohlc['Date'].map(mdates.date2num)\n",
    "    if view_head:\n",
    "        display(df_ohlc.head())\n",
    "    plt.figure(figsize=(20,20))\n",
    "    ax1=plt.subplot2grid((6,1),(0,0),rowspan=5,colspan=1)\n",
    "    ax2=plt.subplot2grid((6,1),(5,0),rowspan=1,colspan=1,sharex=ax1)\n",
    "    ax1.xaxis_date()\n",
    "    candlestick_ohlc(ax1,df_ohlc.values,width=2,colorup='g')\n",
    "    ax2.fill_between(df_volume.index.map(mdates.date2num),df_volume.values,0)\n",
    "    plt.show()\n",
    "    \n"
   ]
  },
  {
   "cell_type": "code",
   "execution_count": 8,
   "metadata": {},
   "outputs": [],
   "source": [
    "import bs4 as bs\n",
    "import pickle\n",
    "import requests\n",
    "import datetime as dt\n",
    "import os\n",
    "import pandas as pd\n",
    "import pandas_datareader.data as web"
   ]
  },
  {
   "cell_type": "code",
   "execution_count": 9,
   "metadata": {},
   "outputs": [],
   "source": [
    "def save_sp500_tickers():\n",
    "    resp=requests.get('https://en.wikipedia.org/wiki/List_of_S%26P_500_companies')\n",
    "    soup = bs.BeautifulSoup(resp.text,\"lxml\")\n",
    "    table=soup.find('table',{'class':'wikitable sortable'})\n",
    "    tickers=[]\n",
    "    for row in table.findAll('tr')[1:]:\n",
    "        ticker = row.findAll('td')[1].text\n",
    "        tickers.append(ticker)\n",
    "    \n",
    "    with open(\"sp500tickers.pickle\",\"wb\") as f:\n",
    "        pickle.dump(tickers,f)\n",
    "    print(tickers)\n",
    "    return tickers\n",
    "\n",
    "#save_sp500_tickers()"
   ]
  },
  {
   "cell_type": "code",
   "execution_count": 10,
   "metadata": {},
   "outputs": [],
   "source": [
    "def get_data_from_yahoo(reload_sp500=False):\n",
    "    if reload_sp500:\n",
    "        tickers =save_sp500_tickers()\n",
    "    else:\n",
    "        with open(\"sp500tickers.pickle\",'rb') as f:\n",
    "            tickers = pickle.load(f)\n",
    "    \n",
    "    if not os.path.exists(\"stock_dfs\"):\n",
    "        os.makedirs(\"stock_dfs\")\n",
    "    \n",
    "    start=dt.datetime(2000,1,1)\n",
    "    end=dt.datetime(2019,3,3)\n",
    "\n",
    "    for ticker in tickers:\n",
    "        print(ticker)\n",
    "        if(ticker[-2:]==\".B\"):\n",
    "            continue\n",
    "        if not os.path.exists(\"stock_dfs/{}.csv\".format(ticker)):\n",
    "            df = web.DataReader(ticker,'yahoo',start,end)\n",
    "            df.to_csv(\"stock_dfs/{}.csv\".format(ticker))\n",
    "        else:\n",
    "            print(\"Already have {}\".format(ticker))"
   ]
  },
  {
   "cell_type": "code",
   "execution_count": null,
   "metadata": {
    "scrolled": true
   },
   "outputs": [],
   "source": [
    "get_data_from_yahoo(reload_sp500=True)"
   ]
  },
  {
   "cell_type": "code",
   "execution_count": null,
   "metadata": {},
   "outputs": [],
   "source": []
  }
 ],
 "metadata": {
  "kernelspec": {
   "display_name": "Python 3",
   "language": "python",
   "name": "python3"
  },
  "language_info": {
   "codemirror_mode": {
    "name": "ipython",
    "version": 3
   },
   "file_extension": ".py",
   "mimetype": "text/x-python",
   "name": "python",
   "nbconvert_exporter": "python",
   "pygments_lexer": "ipython3",
   "version": "3.7.3"
  }
 },
 "nbformat": 4,
 "nbformat_minor": 2
}
